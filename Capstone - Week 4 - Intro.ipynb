{
 "cells": [
  {
   "cell_type": "markdown",
   "metadata": {},
   "source": [
    "# Introduction"
   ]
  },
  {
   "cell_type": "markdown",
   "metadata": {},
   "source": [
    "Often called, the city 'that never sleeps' New York City is a city known around the world for food, fashion, and culture. Manhattan, a borough, is known as one of the most expensive real estate areas in the world based and an epicenter for tourists and residents alike. For a city that never sleeps, there must be major opportunities to start a 24/7 coffee shop within Manhattan. The goal of this project will be to help identify where to open our new business venture: '24/7 Caffeine Queen.' "
   ]
  },
  {
   "cell_type": "markdown",
   "metadata": {},
   "source": [
    "# Data"
   ]
  },
  {
   "cell_type": "markdown",
   "metadata": {},
   "source": [
    "Ideally, we would like to open our shop up where there are not too many coffee shops nearby, but also where there may be several bookstores. To do this, we will use Foursquare data on venues within Manhattan neighborhoods to determine which have bookstores and/or coffee shops. We will use clustering on visual maps with Folium to depict the highest conentration of bookstores and coffee shops to aid in our decision. With this information, our business investors can prioritize their real estate searches. "
   ]
  }
 ],
 "metadata": {
  "kernelspec": {
   "display_name": "Python",
   "language": "python",
   "name": "conda-env-python-py"
  },
  "language_info": {
   "codemirror_mode": {
    "name": "ipython",
    "version": 3
   },
   "file_extension": ".py",
   "mimetype": "text/x-python",
   "name": "python",
   "nbconvert_exporter": "python",
   "pygments_lexer": "ipython3",
   "version": "3.6.11"
  }
 },
 "nbformat": 4,
 "nbformat_minor": 4
}
